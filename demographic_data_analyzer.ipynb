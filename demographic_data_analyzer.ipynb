{
 "cells": [
  {
   "cell_type": "code",
   "execution_count": 1,
   "id": "c4a550f5-5ea1-4756-96b2-ed070bc72e88",
   "metadata": {},
   "outputs": [],
   "source": [
    "import pandas as pd\n",
    "df = pd.read_csv('adult.data.csv')"
   ]
  },
  {
   "cell_type": "code",
   "execution_count": 2,
   "id": "32fa4323-ee08-4d0a-bec6-25a622a91d03",
   "metadata": {},
   "outputs": [
    {
     "data": {
      "text/plain": [
       "Index(['age', 'workclass', 'fnlwgt', 'education', 'education-num',\n",
       "       'marital-status', 'occupation', 'relationship', 'race', 'sex',\n",
       "       'capital-gain', 'capital-loss', 'hours-per-week', 'native-country',\n",
       "       'salary'],\n",
       "      dtype='object')"
      ]
     },
     "execution_count": 2,
     "metadata": {},
     "output_type": "execute_result"
    }
   ],
   "source": [
    "df.columns"
   ]
  },
  {
   "cell_type": "markdown",
   "id": "a97520ab-1155-45e2-be36-7efee7440c74",
   "metadata": {},
   "source": [
    "## How many people of each race are represented in this dataset?"
   ]
  },
  {
   "cell_type": "code",
   "execution_count": 35,
   "id": "1fa8bbf6-78d4-40d5-b80b-165c561939e0",
   "metadata": {},
   "outputs": [
    {
     "data": {
      "text/plain": [
       "race\n",
       "White                 27816\n",
       "Black                  3124\n",
       "Asian-Pac-Islander     1039\n",
       "Amer-Indian-Eskimo      311\n",
       "Other                   271\n",
       "Name: count, dtype: int64"
      ]
     },
     "execution_count": 35,
     "metadata": {},
     "output_type": "execute_result"
    }
   ],
   "source": [
    "race_count = df['race'].value_counts()\n",
    "race_count"
   ]
  },
  {
   "cell_type": "markdown",
   "id": "497062e2-2fe4-44c2-856a-91bbbc20d29c",
   "metadata": {},
   "source": [
    "## What is the average age of men?"
   ]
  },
  {
   "cell_type": "code",
   "execution_count": 38,
   "id": "373f4d28-fbfa-4878-bf1c-1b61896e7620",
   "metadata": {},
   "outputs": [
    {
     "data": {
      "text/plain": [
       "39.4"
      ]
     },
     "execution_count": 38,
     "metadata": {},
     "output_type": "execute_result"
    }
   ],
   "source": [
    "average_age_men = round(df[df['sex'] == 'Male']['age'].mean(), 1)\n",
    "average_age_men"
   ]
  },
  {
   "cell_type": "markdown",
   "id": "a84eb776-a474-4dd9-a726-e916a881d0db",
   "metadata": {},
   "source": [
    "## What is the percentage of people who have a Bachelor's degree?"
   ]
  },
  {
   "cell_type": "code",
   "execution_count": 39,
   "id": "1ad12a6f-6a58-4379-a7b5-b240728fd9c6",
   "metadata": {},
   "outputs": [
    {
     "data": {
      "text/plain": [
       "16.4"
      ]
     },
     "execution_count": 39,
     "metadata": {},
     "output_type": "execute_result"
    }
   ],
   "source": [
    "percentage_bachelors = round(df[df['education'] == 'Bachelors'].shape[0] / df.shape[0] * 100, 1)\n",
    "percentage_bachelors"
   ]
  },
  {
   "cell_type": "markdown",
   "id": "8fc22279-fe58-449c-8413-8f2576d53118",
   "metadata": {},
   "source": [
    "## What percentage of people with advanced education (`Bachelors`, `Masters`, or `Doctorate`) make more than 50K?\n",
    "## What percentage of people without advanced education make more than 50K?|"
   ]
  },
  {
   "cell_type": "code",
   "execution_count": 46,
   "id": "ea400b25",
   "metadata": {},
   "outputs": [
    {
     "data": {
      "text/plain": [
       "46.5"
      ]
     },
     "execution_count": 46,
     "metadata": {},
     "output_type": "execute_result"
    }
   ],
   "source": [
    "higher_education = df[df['education'].isin(['Bachelors', 'Masters', 'Doctorate'])]\n",
    "lower_education = df[~df['education'].isin(['Bachelors', 'Masters', 'Doctorate'])]\n",
    "\n",
    "higher_education_rich = round(higher_education[higher_education['salary'] == '>50K'].shape[0] / higher_education.shape[0] * 100, 1)\n",
    "lower_education_rich = round(lower_education[lower_education['salary'] == '>50K'].shape[0] / lower_education.shape[0] * 100, 1)"
   ]
  },
  {
   "cell_type": "markdown",
   "id": "f7647840-42d8-49c2-95a1-0acb583ef32e",
   "metadata": {},
   "source": [
    "## ZWhat is the minimum number of hours a person works per week (hours-per-week feature)?"
   ]
  },
  {
   "cell_type": "code",
   "execution_count": null,
   "id": "faf69fd8",
   "metadata": {},
   "outputs": [],
   "source": [
    "min_work_hours = df['hours-per-week'].min()"
   ]
  },
  {
   "cell_type": "markdown",
   "id": "6847009f",
   "metadata": {},
   "source": [
    "## What percentage of the people who work the minimum number of hours per week have a salary of >50K?"
   ]
  },
  {
   "cell_type": "code",
   "execution_count": 49,
   "id": "64f45097",
   "metadata": {},
   "outputs": [
    {
     "data": {
      "text/plain": [
       "10.0"
      ]
     },
     "execution_count": 49,
     "metadata": {},
     "output_type": "execute_result"
    }
   ],
   "source": [
    "num_min_workers = df[df['hours-per-week'] == min_work_hours]\n",
    "\n",
    "rich_percentage = round((num_min_workers['salary'] == '>50K').sum() / len(num_min_workers) * 100, 1)\n",
    "rich_percentage"
   ]
  },
  {
   "cell_type": "markdown",
   "id": "42dad52a",
   "metadata": {},
   "source": [
    "## What country has the highest percentage of people that earn >50K?"
   ]
  },
  {
   "cell_type": "code",
   "execution_count": 56,
   "id": "168f838f",
   "metadata": {},
   "outputs": [
    {
     "data": {
      "text/plain": [
       "'Iran'"
      ]
     },
     "execution_count": 56,
     "metadata": {},
     "output_type": "execute_result"
    }
   ],
   "source": [
    "highest_earning_country_stats = (df[df['salary'] == '>50K']['native-country'].value_counts() / df['native-country'].value_counts())\n",
    "highest_earning_country = highest_earning_country_stats.idxmax()\n",
    "highest_earning_country_percentage = round(highest_earning_country_stats.max() * 100, 1)\n",
    "highest_earning_country"
   ]
  },
  {
   "cell_type": "markdown",
   "id": "5c222c63",
   "metadata": {},
   "source": [
    "## Identify the most popular occupation for those who earn >50K in India."
   ]
  },
  {
   "cell_type": "code",
   "execution_count": 54,
   "id": "0b4bf886",
   "metadata": {},
   "outputs": [
    {
     "data": {
      "text/plain": [
       "'Prof-specialty'"
      ]
     },
     "execution_count": 54,
     "metadata": {},
     "output_type": "execute_result"
    }
   ],
   "source": [
    "top_IN_occupation = df[(df['native-country'] == 'India') & (df['salary'] == '>50K')]['occupation'].value_counts().idxmax()\n",
    "top_IN_occupation"
   ]
  },
  {
   "cell_type": "code",
   "execution_count": null,
   "id": "6f17b996",
   "metadata": {},
   "outputs": [],
   "source": []
  }
 ],
 "metadata": {
  "kernelspec": {
   "display_name": "Python 3 (ipykernel)",
   "language": "python",
   "name": "python3"
  },
  "language_info": {
   "codemirror_mode": {
    "name": "ipython",
    "version": 3
   },
   "file_extension": ".py",
   "mimetype": "text/x-python",
   "name": "python",
   "nbconvert_exporter": "python",
   "pygments_lexer": "ipython3",
   "version": "3.12.2"
  }
 },
 "nbformat": 4,
 "nbformat_minor": 5
}
